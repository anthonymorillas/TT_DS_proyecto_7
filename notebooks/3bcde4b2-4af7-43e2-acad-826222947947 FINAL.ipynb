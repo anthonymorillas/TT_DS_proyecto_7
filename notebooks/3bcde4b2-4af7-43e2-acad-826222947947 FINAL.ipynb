{
 "cells": [
  {
   "cell_type": "markdown",
   "id": "acc5f720",
   "metadata": {},
   "source": [
    "# ¡Hola, Anthony!  \n",
    "\n",
    "Mi nombre es Carlos Ortiz, soy code reviewer de Practicum y voy a revisar el proyecto que acabas de desarrollar.\n",
    "\n",
    "Cuando vea un error la primera vez, lo señalaré. Deberás encontrarlo y arreglarlo. La intención es que te prepares para un espacio real de trabajo. En un trabajo, el líder de tu equipo hará lo mismo. Si no puedes solucionar el error, te daré más información en la próxima ocasión. \n",
    "\n",
    "Encontrarás mis comentarios más abajo - **por favor, no los muevas, no los modifiques ni los borres**.\n",
    "\n",
    "¿Cómo lo voy a hacer? Voy a leer detenidamente cada una de las implementaciones que has llevado a cabo para cumplir con lo solicitado. Verás los comentarios de esta forma:\n",
    "\n",
    "<div class=\"alert alert-block alert-success\">\n",
    "<b>Comentario del revisor</b> <a class=\"tocSkip\"></a>\n",
    "    \n",
    "Si todo está perfecto.\n",
    "</div>\n",
    "\n",
    "\n",
    "<div class=\"alert alert-block alert-warning\">\n",
    "<b>Comentario del revisor</b> <a class=\"tocSkip\"></a>\n",
    "    \n",
    "Si tu código está bien pero se puede mejorar o hay algún detalle que le hace falta.\n",
    "</div>\n",
    "\n",
    "\n",
    "<div class=\"alert alert-block alert-danger\">\n",
    "    \n",
    "<b>Comentario del revisor</b> <a class=\"tocSkip\"></a>\n",
    "    \n",
    "    \n",
    "Si de pronto hace falta algo o existe algún problema con tu código o conclusiones.\n",
    "</div>\n",
    "\n",
    "\n",
    "Puedes responderme de esta forma: \n",
    "\n",
    "\n",
    "<div class=\"alert alert-block alert-info\">\n",
    "<b>Respuesta del estudiante</b> <a class=\"tocSkip\"></a>\n",
    "</div>\n",
    "¡Empecemos!"
   ]
  },
  {
   "cell_type": "markdown",
   "id": "b8c99f73-65b1-47ec-b7f0-f9cb51a04a89",
   "metadata": {},
   "source": [
    "<div class=\"alert alert-block alert-info\">\n",
    "<b>Hola Carlos! Gracias por tus observaciones, espero haber entendido todo.</b> <a class=\"tocSkip\"></a>\n",
    "</div>"
   ]
  },
  {
   "cell_type": "markdown",
   "id": "1ae12335-9f58-4fb9-b08a-2e0b3b4e153a",
   "metadata": {},
   "source": [
    "### Proyecto Compañía Móvil Megaline "
   ]
  },
  {
   "cell_type": "markdown",
   "id": "16ea8628-f3c6-450c-b0a1-854db3349821",
   "metadata": {},
   "source": [
    "En el siguiente proyecto se trabajará con los datos de la Compañía Móvil Megaline, la cual quiere desarrollar un modelo que pueda analizar el comportamiento de los clientes y recomendar uno de los nuevos planes de la empresa, Smart o Ultra. Para este modelo la compañía busca un umbral de exactitud del 75%.\n",
    "\n",
    "- Contenidos:"
   ]
  },
  {
   "cell_type": "markdown",
   "id": "530261a6-7ad4-4b98-b405-54beec1c516f",
   "metadata": {},
   "source": [
    "| Objetivos         | Descripción |\n",
    "|--------------|--------------|\n",
    "| Análisis exploratorio de datos (Python    |  Carga de librerías y archivos csv  |\n",
    "|                                           | Preprocesamiento de datos    |\n",
    "| Segmentación de los datos    | Elección de modelos    |\n",
    "|     | Validación de modelos    |\n",
    "|     | Prueba de cordura    |\n",
    "| Conclusiones generales  |     |"
   ]
  },
  {
   "cell_type": "markdown",
   "id": "df88cab4-0c98-4f2a-98d9-da1784d91a2d",
   "metadata": {},
   "source": [
    "### Análisis exploratorio de datos (Python)"
   ]
  },
  {
   "cell_type": "code",
   "execution_count": 33,
   "id": "44582b1b-483e-42f8-9d71-81db65d1a9aa",
   "metadata": {},
   "outputs": [],
   "source": [
    "import pandas as pd\n",
    "from sklearn.model_selection import train_test_split\n",
    "from sklearn.tree import DecisionTreeClassifier\n",
    "from sklearn.metrics import accuracy_score, classification_report, confusion_matrix\n",
    "from sklearn.ensemble import RandomForestClassifier\n",
    "from sklearn.linear_model import LogisticRegression\n",
    "from sklearn.metrics import mean_squared_error\n",
    "from sklearn.dummy import DummyClassifier"
   ]
  },
  {
   "cell_type": "code",
   "execution_count": 23,
   "id": "934b14f8-5cb2-4396-82ea-d33eb0f7f1ea",
   "metadata": {},
   "outputs": [],
   "source": [
    "try:\n",
    "    df = pd.read_csv('users_behavior.csv')\n",
    "except:\n",
    "    df = pd.read_csv('/datasets/users_behavior.csv')"
   ]
  },
  {
   "cell_type": "markdown",
   "id": "cd301452",
   "metadata": {},
   "source": [
    "<div class=\"alert alert-block alert-success\">\n",
    "<b>Comentario del revisor</b> <a class=\"tocSkip\"></a>\n",
    "    \n",
    "Buen trabajo con esta importación de datos y de librerías.\n",
    "</div>"
   ]
  },
  {
   "cell_type": "code",
   "execution_count": 24,
   "id": "afaf19cc-a3c9-46fd-8c2c-98c7692f7ded",
   "metadata": {},
   "outputs": [
    {
     "name": "stdout",
     "output_type": "stream",
     "text": [
      "<class 'pandas.core.frame.DataFrame'>\n",
      "RangeIndex: 3214 entries, 0 to 3213\n",
      "Data columns (total 5 columns):\n",
      " #   Column    Non-Null Count  Dtype  \n",
      "---  ------    --------------  -----  \n",
      " 0   calls     3214 non-null   float64\n",
      " 1   minutes   3214 non-null   float64\n",
      " 2   messages  3214 non-null   float64\n",
      " 3   mb_used   3214 non-null   float64\n",
      " 4   is_ultra  3214 non-null   int64  \n",
      "dtypes: float64(4), int64(1)\n",
      "memory usage: 125.7 KB\n"
     ]
    }
   ],
   "source": [
    "df.info()"
   ]
  },
  {
   "cell_type": "code",
   "execution_count": 25,
   "id": "67d9fed4-1f74-4c85-b810-8756b025bada",
   "metadata": {},
   "outputs": [
    {
     "data": {
      "text/html": [
       "<div>\n",
       "<style scoped>\n",
       "    .dataframe tbody tr th:only-of-type {\n",
       "        vertical-align: middle;\n",
       "    }\n",
       "\n",
       "    .dataframe tbody tr th {\n",
       "        vertical-align: top;\n",
       "    }\n",
       "\n",
       "    .dataframe thead th {\n",
       "        text-align: right;\n",
       "    }\n",
       "</style>\n",
       "<table border=\"1\" class=\"dataframe\">\n",
       "  <thead>\n",
       "    <tr style=\"text-align: right;\">\n",
       "      <th></th>\n",
       "      <th>calls</th>\n",
       "      <th>minutes</th>\n",
       "      <th>messages</th>\n",
       "      <th>mb_used</th>\n",
       "      <th>is_ultra</th>\n",
       "    </tr>\n",
       "  </thead>\n",
       "  <tbody>\n",
       "    <tr>\n",
       "      <th>0</th>\n",
       "      <td>40.0</td>\n",
       "      <td>311.90</td>\n",
       "      <td>83.0</td>\n",
       "      <td>19915.42</td>\n",
       "      <td>0</td>\n",
       "    </tr>\n",
       "    <tr>\n",
       "      <th>1</th>\n",
       "      <td>85.0</td>\n",
       "      <td>516.75</td>\n",
       "      <td>56.0</td>\n",
       "      <td>22696.96</td>\n",
       "      <td>0</td>\n",
       "    </tr>\n",
       "    <tr>\n",
       "      <th>2</th>\n",
       "      <td>77.0</td>\n",
       "      <td>467.66</td>\n",
       "      <td>86.0</td>\n",
       "      <td>21060.45</td>\n",
       "      <td>0</td>\n",
       "    </tr>\n",
       "    <tr>\n",
       "      <th>3</th>\n",
       "      <td>106.0</td>\n",
       "      <td>745.53</td>\n",
       "      <td>81.0</td>\n",
       "      <td>8437.39</td>\n",
       "      <td>1</td>\n",
       "    </tr>\n",
       "    <tr>\n",
       "      <th>4</th>\n",
       "      <td>66.0</td>\n",
       "      <td>418.74</td>\n",
       "      <td>1.0</td>\n",
       "      <td>14502.75</td>\n",
       "      <td>0</td>\n",
       "    </tr>\n",
       "  </tbody>\n",
       "</table>\n",
       "</div>"
      ],
      "text/plain": [
       "   calls  minutes  messages   mb_used  is_ultra\n",
       "0   40.0   311.90      83.0  19915.42         0\n",
       "1   85.0   516.75      56.0  22696.96         0\n",
       "2   77.0   467.66      86.0  21060.45         0\n",
       "3  106.0   745.53      81.0   8437.39         1\n",
       "4   66.0   418.74       1.0  14502.75         0"
      ]
     },
     "execution_count": 25,
     "metadata": {},
     "output_type": "execute_result"
    }
   ],
   "source": [
    "df.head()"
   ]
  },
  {
   "cell_type": "markdown",
   "id": "db2cc33d-439f-4f46-852e-d5ebe30df5b9",
   "metadata": {},
   "source": [
    "### Segmentación de los datos"
   ]
  },
  {
   "cell_type": "markdown",
   "id": "ba0577f2-8741-49ed-96cc-f782cb4f5770",
   "metadata": {},
   "source": [
    "- En este paso se dividirá el data frame en 3: El 60% será para entrenamiento, el 20% para validación y otro 20% para prueba."
   ]
  },
  {
   "cell_type": "code",
   "execution_count": 26,
   "id": "89773e60-325f-4f5e-bcec-9050a2268618",
   "metadata": {},
   "outputs": [],
   "source": [
    "df_train, df_valid_test = train_test_split(df, test_size=0.6, random_state=1234)\n",
    "df_valid, df_test = train_test_split(df_valid_test, test_size=0.5, random_state=1234)"
   ]
  },
  {
   "cell_type": "markdown",
   "id": "8d91ff47-83df-4686-95a9-a6b5958c92bc",
   "metadata": {},
   "source": [
    "- Dado el origen del objetivo, se utilizarán modelos de clasificación."
   ]
  },
  {
   "cell_type": "markdown",
   "id": "b3d5d72c-6918-435e-ab31-7ee3d8f3eaf9",
   "metadata": {},
   "source": [
    "- Primer modelo: Árbol de decisiones."
   ]
  },
  {
   "cell_type": "code",
   "execution_count": 27,
   "id": "65fc657d-ce6c-4fd0-87b1-ecd3a2b6aadd",
   "metadata": {},
   "outputs": [],
   "source": [
    "features_train = df_train.drop(['is_ultra'], axis=1)\n",
    "target_train = df_train['is_ultra']\n",
    "features_valid = df_valid.drop(['is_ultra'], axis=1)\n",
    "target_valid = df_valid['is_ultra']\n",
    "features_test = df_test.drop(['is_ultra'], axis=1)\n",
    "target_test = df_test['is_ultra']"
   ]
  },
  {
   "cell_type": "markdown",
   "id": "e7863e63-3161-4a26-af37-ba9e51061b1d",
   "metadata": {},
   "source": [
    "- Se creará un bucle para max_depth de 1 a 5, con el fin de encontrar a qué profundidad se puede conseguir la mejor acertividad con el modelo de árbol de decisiones."
   ]
  },
  {
   "cell_type": "code",
   "execution_count": 28,
   "id": "59de9be1-8ec6-4a96-8493-060e7b434be5",
   "metadata": {
    "scrolled": true
   },
   "outputs": [
    {
     "name": "stdout",
     "output_type": "stream",
     "text": [
      "max_depth = 1 : 0.7468879668049793\n",
      "max_depth = 2 : 0.770746887966805\n",
      "max_depth = 3 : 0.7800829875518672\n",
      "max_depth = 4 : 0.766597510373444\n",
      "max_depth = 5 : 0.779045643153527\n"
     ]
    }
   ],
   "source": [
    "for depth in range (1, 6):\n",
    "    model = DecisionTreeClassifier(random_state=1234, max_depth=depth)\n",
    "    model.fit(features_train, target_train)\n",
    "    predictions_valid = model.predict(features_valid)\n",
    "    print('max_depth =', depth, ': ', end='')\n",
    "    print(accuracy_score(target_valid, predictions_valid))"
   ]
  },
  {
   "cell_type": "markdown",
   "id": "931134e0-039d-45ed-b8d6-a45e1f9418d1",
   "metadata": {},
   "source": [
    "- En el modelo Árbol de Decisiones se puede usar un max_depth de 3 para tener la máxima acertividad, la cual es de un 78%"
   ]
  },
  {
   "cell_type": "markdown",
   "id": "a8c72bf4",
   "metadata": {},
   "source": [
    "<div class=\"alert alert-block alert-success\">\n",
    "<b>Comentario del revisor</b> <a class=\"tocSkip\"></a>\n",
    "    \n",
    "Buen trabajo.\n",
    "</div>"
   ]
  },
  {
   "cell_type": "markdown",
   "id": "7e9141e3-ec45-4bad-b219-06520619b442",
   "metadata": {},
   "source": [
    "- Segundo modelo: Bosque Aleatorio."
   ]
  },
  {
   "cell_type": "code",
   "execution_count": 29,
   "id": "eb0761e2-a3b0-4851-9688-301518f86d8d",
   "metadata": {},
   "outputs": [
    {
     "name": "stdout",
     "output_type": "stream",
     "text": [
      "Accuracy del mejor modelo es el conjunto de validación (n_estimators = 8):0.7800829875518672\n"
     ]
    }
   ],
   "source": [
    "best_score = 0\n",
    "best_est = 0\n",
    "for est in range(1, 11):\n",
    "    model = RandomForestClassifier(random_state=4321, n_estimators=est)\n",
    "    model.fit(features_train, target_train)\n",
    "    score = model.score(features_valid, target_valid)\n",
    "    if score > best_score:\n",
    "        best_score = score\n",
    "        best_est = est\n",
    "\n",
    "print('Accuracy del mejor modelo es el conjunto de validación (n_estimators = {}):{}'.format(best_est, best_score))"
   ]
  },
  {
   "cell_type": "markdown",
   "id": "297e805a-eaa7-4ef0-aafa-75cb573be73a",
   "metadata": {},
   "source": [
    "- En el modelo Bosque Aleatorio, se puede usar un n_estimators de 10 para tener la máxima acertividad, la cual es de un 78%"
   ]
  },
  {
   "cell_type": "markdown",
   "id": "55388a52",
   "metadata": {},
   "source": [
    "<div class=\"alert alert-block alert-success\">\n",
    "<b>Comentario del revisor</b> <a class=\"tocSkip\"></a>\n",
    "    \n",
    "Bien hecho.\n",
    "</div>"
   ]
  },
  {
   "cell_type": "markdown",
   "id": "c31dec5d-1157-4975-9691-d88f1ea29605",
   "metadata": {},
   "source": [
    "- Tercer modelo: Regresión Logística."
   ]
  },
  {
   "cell_type": "code",
   "execution_count": 30,
   "id": "1cce5c86-1591-4962-b270-876726f14544",
   "metadata": {},
   "outputs": [
    {
     "name": "stdout",
     "output_type": "stream",
     "text": [
      "Accuracy del modelo de regresión logística en el conjunto de entrenamiento: 0.7035019455252919\n",
      "Accuracy del modelo de regresión logística en el conjunto de validación: 0.6939834024896265\n"
     ]
    }
   ],
   "source": [
    "model = LogisticRegression(random_state=4321, solver='liblinear')\n",
    "model.fit(features_train, target_train)\n",
    "score_train = model.score(features_train, target_train)\n",
    "score_valid = model.score(features_valid, target_valid)\n",
    "print('Accuracy del modelo de regresión logística en el conjunto de entrenamiento:', score_train)\n",
    "print('Accuracy del modelo de regresión logística en el conjunto de validación:', score_valid)"
   ]
  },
  {
   "cell_type": "markdown",
   "id": "707d6d5f",
   "metadata": {},
   "source": [
    "<div class=\"alert alert-block alert-success\">\n",
    "<b>Comentario del revisor</b> <a class=\"tocSkip\"></a>\n",
    "    \n",
    "Buen trabajo con este modelo.\n",
    "</div>"
   ]
  },
  {
   "cell_type": "markdown",
   "id": "e48ba96b-df59-4896-8a6e-32a9c6e47b07",
   "metadata": {},
   "source": [
    "- En el modelo Regresión Logística, la asertividad del conjunto de entrenamiento es de un 70,35% y del conjunto de validación es de un 69,40%"
   ]
  },
  {
   "cell_type": "code",
   "execution_count": 31,
   "id": "40ae7352-6d74-4d8d-b142-deb0980fb4e3",
   "metadata": {},
   "outputs": [
    {
     "name": "stdout",
     "output_type": "stream",
     "text": [
      "max_depth = 5 : 0.8145077720207254\n"
     ]
    }
   ],
   "source": [
    "final_model = DecisionTreeClassifier(random_state=1234, max_depth=3)\n",
    "final_model.fit(features_train, target_train)\n",
    "predictions_test = final_model.predict(features_test)\n",
    "print('max_depth =', depth, ': ', end='')\n",
    "print(accuracy_score(target_test, predictions_test))"
   ]
  },
  {
   "cell_type": "markdown",
   "id": "cf459cf0-5424-42b5-b9bf-a49bc077ddf1",
   "metadata": {},
   "source": [
    "- La asertividad del conjunto de test es de 81.45%"
   ]
  },
  {
   "cell_type": "markdown",
   "id": "aaad9838-e5e7-406b-95fe-04e1f73f64d1",
   "metadata": {},
   "source": [
    "- Prueba de cordura: Se utilizará DummyClassifier, porque hace predicciones ignorando los inputs del conjunto features. Se utilizará el parámetro “most_frequent”, dado que este método siempre devuelve la etiqueta de clase más frecuente."
   ]
  },
  {
   "cell_type": "code",
   "execution_count": 32,
   "id": "f3221b7d-cfad-4f67-b95e-2e67af791ca9",
   "metadata": {},
   "outputs": [
    {
     "data": {
      "text/plain": [
       "0.694300518134715"
      ]
     },
     "execution_count": 32,
     "metadata": {},
     "output_type": "execute_result"
    }
   ],
   "source": [
    "dummy_classifier = DummyClassifier(strategy=\"most_frequent\")\n",
    "dummy_classifier.fit(features_train, target_train)\n",
    "y_pred = dummy_classifier.predict(features_test)\n",
    "dummy_classifier.score(features_test, target_test)"
   ]
  },
  {
   "cell_type": "markdown",
   "id": "93ce12e9-10c2-44ee-b0ee-a037a6d8ab04",
   "metadata": {},
   "source": [
    "La prueba de cordura a través de DummyClassifier es de 69.43% de asertividad."
   ]
  },
  {
   "cell_type": "markdown",
   "id": "54c19251-85a4-4346-9b0c-17f5e39dff06",
   "metadata": {},
   "source": [
    "- Conclusiones Generales"
   ]
  },
  {
   "cell_type": "markdown",
   "id": "a4525ea7-8bda-472f-bf31-65cb1d770cf2",
   "metadata": {},
   "source": [
    "- Los modelos utilizados fueron los de clasificación dado que se quiere pronosticar si un usuario va a elegir un plan u el otro.\n",
    "- El modelo con mayor asertividad en el entremiento fue el Árbol de decisiones con un 80%.\n",
    "- Los otros dos modelos fueron el Bosque Aleatorio y Regresión Logística, que tuvieron como resultado una acertividad menos al 80%, pero mayor al 69%.\n",
    "- En la comprobación de calidad del modelo, al usar el conjunto de prueba, la asertividad fue de un 70%.\n",
    "- En la prueba de cordura se demostró que los resultados del objetivo 0, o sea, que el usuario elija plan Smart, la presición fue de un 81% y un 82% para los planes Ultra."
   ]
  },
  {
   "cell_type": "markdown",
   "id": "dd8795b1",
   "metadata": {},
   "source": [
    "<div class=\"alert alert-block alert-danger\">\n",
    "    \n",
    "# Comentarios generales \n",
    "<b>Comentario del revisor</b> <a class=\"tocSkip\"></a>\n",
    "\n",
    "Buen trabajo, Anthony. Nos quedan unos pocos elementos pendientes tanto de fondo como de forma para poder aprobar tu proyecto. He dejado comentarios a lo largo del documento para ello.\n",
    "</div>"
   ]
  },
  {
   "cell_type": "markdown",
   "id": "1453c90a",
   "metadata": {},
   "source": [
    "<div class=\"alert alert-block alert-success\">\n",
    "    \n",
    "# Comentarios generales \n",
    "<b>Comentario del revisor</b> <a class=\"tocSkip\"></a>\n",
    "\n",
    "Buen trabajo, Anthony. Todo ha sido corregido y has aprobado un nuevo proyecto. ¡Felicitaciones!\n",
    "</div>"
   ]
  }
 ],
 "metadata": {
  "kernelspec": {
   "display_name": "Python 3 (ipykernel)",
   "language": "python",
   "name": "python3"
  },
  "language_info": {
   "codemirror_mode": {
    "name": "ipython",
    "version": 3
   },
   "file_extension": ".py",
   "mimetype": "text/x-python",
   "name": "python",
   "nbconvert_exporter": "python",
   "pygments_lexer": "ipython3",
   "version": "3.9.5"
  },
  "toc": {
   "base_numbering": 1,
   "nav_menu": {},
   "number_sections": true,
   "sideBar": true,
   "skip_h1_title": true,
   "title_cell": "Table of Contents",
   "title_sidebar": "Contents",
   "toc_cell": false,
   "toc_position": {},
   "toc_section_display": true,
   "toc_window_display": false
  }
 },
 "nbformat": 4,
 "nbformat_minor": 5
}
